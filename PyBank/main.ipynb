from pathlib import Path
import csv

import pandas as pd
from pathlib import Path

csvpath = Path('./PyBank/Resources/budget_data.csv')

# Open the input path as a file object
with open(csvpath, 'r') as csvfile:
    
    # Initialize line_num variable
    line_num = 0
  
    # Print the datatype of the file object
    print(type(csvfile))

    # Pass in the csv file to the csv.reader() function
    # (with ',' as the delmiter/separator) and return the csvreader object
    csvreader = csv.reader(csvfile, delimiter=',')
    
    # Print the datatype of the csvreader
    print(type(csvreader))

    # Go to the next row from the start of the file
    header = next(csvreader)
    line_num += 1
    
    # Print the header
    print(f"{header} <---- HEADER")

    pl_amounts = []
    
    # Read each row of data after the header
    for row in csvreader:
        # Print the row
        print(row)
        # Set date equal to the value in the 1st column of each row
        date = (row[0])
        # Set profit/losses equal to the value in the 2nd column of each row
        pl_amount = int(row[1])
        # Append each row to the list of profit and loss data
        pl_row = date, pl_amount
        pl_amounts.append(pl_row)
        
#initialize variables
minimum_value = 0
maximum_value = 0
minimum_key = ""
maximum_key = ""
key_date = ""
total = 0
count = 0
change_count = 0
change = 0
total_change = 0
previous = 0
avg_profit_loss_amt = 0

#loop through profit loss data
for date, pl_amount in pl_amounts:
    total = total + pl_amount
    count += 1
    change = pl_amount - previous
    total_change = total_change + change
    change_count = change_count + 1
    previous = pl_amount
            
#accumulate greatest increase/decrease in profits, and changes in profit/losses.    
    if minimum_value == 0:
        minimum_value = change
        minimum_key = date
        total_change = total_change - change
        change_count = change_count - 1
    elif pl_amount < minimum_value:
        minimum_value = change
        minimum_key = date
    elif pl_amount > maximum_value:
        maximum_value = change
        maximum_key = date
       
avg_profit_loss_amt = (total_change / change_count)
avg_profit_loss_amt_rnd = round(avg_profit_loss_amt,2)

print()
print(f"Total Months: {count}")
print(f"Total: ${total}")
print(f"Average Change: ${avg_profit_loss_amt_rnd}")
print(f"Greatest Increase in Profits: {maximum_key} ${maximum_value}")
print(f"Greatest Decrease in Profits: {minimum_key} ${minimum_value}")


# Set the output header
header = ["Total Months", "Total", "Average Change", "Date of Greatest Increase", "Greatest Increase in Profits", "Date of Greatest Decrease", "Greatest Decrease in Profits"]
# Create a list of metrics
metrics = [count, total, avg_profit_loss_amt_rnd, maximum_key, maximum_value, minimum_key, minimum_value]

# Set the output file path
output_path = Path('output.csv')

# Open the output path as a file object
with open(output_path, 'w') as csvfile:
    # Set the file object as a csvwriter object
    csvwriter = csv.writer(csvfile, delimiter=',')
    # Write the header to the output file
    csvwriter.writerow(header)
    # Write the list of metrics to the output file
